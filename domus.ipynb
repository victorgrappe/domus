{
 "cells": [
  {
   "cell_type": "code",
   "execution_count": 3,
   "id": "unsigned-shock",
   "metadata": {},
   "outputs": [
    {
     "data": {
      "text/html": [
       "<style  type=\"text/css\" >\n",
       "#T_24865_row0_col15{\n",
       "            background-color:  #f7fcfd;\n",
       "            color:  #000000;\n",
       "        }#T_24865_row1_col15{\n",
       "            background-color:  #00441b;\n",
       "            color:  #f1f1f1;\n",
       "        }</style><table id=\"T_24865_\" ><thead>    <tr>        <th class=\"blank level0\" ></th>        <th class=\"col_heading level0 col0\" >I_index</th>        <th class=\"col_heading level0 col1\" >I_name</th>        <th class=\"col_heading level0 col2\" >I_Address</th>        <th class=\"col_heading level0 col3\" >I_price</th>        <th class=\"col_heading level0 col4\" >I_notary</th>        <th class=\"col_heading level0 col5\" >I_ppd</th>        <th class=\"col_heading level0 col6\" >I_works</th>        <th class=\"col_heading level0 col7\" >I_initial</th>        <th class=\"col_heading level0 col8\" >I_rate</th>        <th class=\"col_heading level0 col9\" >I_years</th>        <th class=\"col_heading level0 col10\" >I_area</th>        <th class=\"col_heading level0 col11\" >I_rent</th>        <th class=\"col_heading level0 col12\" >I_propertyTax</th>        <th class=\"col_heading level0 col13\" >I_moveIn</th>        <th class=\"col_heading level0 col14\" >P_total</th>        <th class=\"col_heading level0 col15\" >P_total_fin</th>        <th class=\"col_heading level0 col16\" >P_monthlyPayment</th>        <th class=\"col_heading level0 col17\" >P_rentalYield</th>    </tr></thead><tbody>\n",
       "                <tr>\n",
       "                        <th id=\"T_24865_level0_row0\" class=\"row_heading level0 row0\" >0</th>\n",
       "                        <td id=\"T_24865_row0_col0\" class=\"data row0 col0\" >1</td>\n",
       "                        <td id=\"T_24865_row0_col1\" class=\"data row0 col1\" >La Maison du bonheur</td>\n",
       "                        <td id=\"T_24865_row0_col2\" class=\"data row0 col2\" >34 rue de Paris</td>\n",
       "                        <td id=\"T_24865_row0_col3\" class=\"data row0 col3\" >329400.000000</td>\n",
       "                        <td id=\"T_24865_row0_col4\" class=\"data row0 col4\" >16470.000000</td>\n",
       "                        <td id=\"T_24865_row0_col5\" class=\"data row0 col5\" >300.000000</td>\n",
       "                        <td id=\"T_24865_row0_col6\" class=\"data row0 col6\" >2000.000000</td>\n",
       "                        <td id=\"T_24865_row0_col7\" class=\"data row0 col7\" >12000.000000</td>\n",
       "                        <td id=\"T_24865_row0_col8\" class=\"data row0 col8\" >0.015000</td>\n",
       "                        <td id=\"T_24865_row0_col9\" class=\"data row0 col9\" >20</td>\n",
       "                        <td id=\"T_24865_row0_col10\" class=\"data row0 col10\" >54.000000</td>\n",
       "                        <td id=\"T_24865_row0_col11\" class=\"data row0 col11\" >1225.000000</td>\n",
       "                        <td id=\"T_24865_row0_col12\" class=\"data row0 col12\" >1500.000000</td>\n",
       "                        <td id=\"T_24865_row0_col13\" class=\"data row0 col13\" >2021-03-20 18:44:17+00:00</td>\n",
       "                        <td id=\"T_24865_row0_col14\" class=\"data row0 col14\" >$348,170</td>\n",
       "                        <td id=\"T_24865_row0_col15\" class=\"data row0 col15\" >$336,170.00</td>\n",
       "                        <td id=\"T_24865_row0_col16\" class=\"data row0 col16\" >162217.29%</td>\n",
       "                        <td id=\"T_24865_row0_col17\" class=\"data row0 col17\" >4.22%</td>\n",
       "            </tr>\n",
       "            <tr>\n",
       "                        <th id=\"T_24865_level0_row1\" class=\"row_heading level0 row1\" >1</th>\n",
       "                        <td id=\"T_24865_row1_col0\" class=\"data row1 col0\" >2</td>\n",
       "                        <td id=\"T_24865_row1_col1\" class=\"data row1 col1\" >Colloc</td>\n",
       "                        <td id=\"T_24865_row1_col2\" class=\"data row1 col2\" >10 rue du Caire</td>\n",
       "                        <td id=\"T_24865_row1_col3\" class=\"data row1 col3\" >1500000.000000</td>\n",
       "                        <td id=\"T_24865_row1_col4\" class=\"data row1 col4\" >0.000000</td>\n",
       "                        <td id=\"T_24865_row1_col5\" class=\"data row1 col5\" >0.000000</td>\n",
       "                        <td id=\"T_24865_row1_col6\" class=\"data row1 col6\" >30000.000000</td>\n",
       "                        <td id=\"T_24865_row1_col7\" class=\"data row1 col7\" >0.000000</td>\n",
       "                        <td id=\"T_24865_row1_col8\" class=\"data row1 col8\" >0.026000</td>\n",
       "                        <td id=\"T_24865_row1_col9\" class=\"data row1 col9\" >20</td>\n",
       "                        <td id=\"T_24865_row1_col10\" class=\"data row1 col10\" >127.000000</td>\n",
       "                        <td id=\"T_24865_row1_col11\" class=\"data row1 col11\" >3200.000000</td>\n",
       "                        <td id=\"T_24865_row1_col12\" class=\"data row1 col12\" >3000.000000</td>\n",
       "                        <td id=\"T_24865_row1_col13\" class=\"data row1 col13\" >2021-03-20 18:44:17+00:00</td>\n",
       "                        <td id=\"T_24865_row1_col14\" class=\"data row1 col14\" >$1,530,000</td>\n",
       "                        <td id=\"T_24865_row1_col15\" class=\"data row1 col15\" >$1,530,000.00</td>\n",
       "                        <td id=\"T_24865_row1_col16\" class=\"data row1 col16\" >818225.72%</td>\n",
       "                        <td id=\"T_24865_row1_col17\" class=\"data row1 col17\" >2.51%</td>\n",
       "            </tr>\n",
       "    </tbody></table>"
      ],
      "text/plain": [
       "<pandas.io.formats.style.Styler at 0x7f877dcc08b0>"
      ]
     },
     "execution_count": 3,
     "metadata": {},
     "output_type": "execute_result"
    }
   ],
   "source": [
    "import main\n",
    "\n",
    "home_df = main.runAll()\n",
    "home_style = main.getHomesStyled(home_df=home_df, html=False)\n"
   ]
  }
 ],
 "metadata": {
  "kernelspec": {
   "display_name": "Python 3",
   "language": "python",
   "name": "python3"
  },
  "language_info": {
   "codemirror_mode": {
    "name": "ipython",
    "version": 3
   },
   "file_extension": ".py",
   "mimetype": "text/x-python",
   "name": "python",
   "nbconvert_exporter": "python",
   "pygments_lexer": "ipython3",
   "version": "3.8.8"
  }
 },
 "nbformat": 4,
 "nbformat_minor": 5
}
